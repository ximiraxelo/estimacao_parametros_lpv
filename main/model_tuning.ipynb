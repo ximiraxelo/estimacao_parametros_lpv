{
 "cells": [
  {
   "cell_type": "code",
   "execution_count": 4,
   "id": "d6b80d0c",
   "metadata": {},
   "outputs": [],
   "source": [
    "import tensorflow as tf\n",
    "import tensorflow.keras.backend as K\n",
    "import keras_tuner\n",
    "from sklearn.model_selection import train_test_split\n",
    "from sklearn.preprocessing import MinMaxScaler\n",
    "import pandas as pd\n",
    "\n",
    "%matplotlib inline"
   ]
  },
  {
   "cell_type": "code",
   "execution_count": 2,
   "id": "554e048a",
   "metadata": {},
   "outputs": [],
   "source": [
    "def r2(y_true, y_pred):\n",
    "    SS_res = K.sum(K.square(y_true - y_pred))\n",
    "    SS_tot = K.sum(K.square(y_true - K.mean(y_true)))\n",
    "    return 1 - SS_res / (SS_tot + K.epsilon())"
   ]
  },
  {
   "cell_type": "code",
   "execution_count": 6,
   "id": "e1096ceb",
   "metadata": {},
   "outputs": [],
   "source": [
    "data = pd.read_parquet('../data/features_x1.parquet')\n",
    "data.head()\n",
    "\n",
    "X = data.drop(columns=['y1', 'y2'])\n",
    "y = data[['y1', 'y2']]\n",
    "\n",
    "X_train, X_test, y_train, y_test = train_test_split(X, y, test_size=0.2, random_state=123)\n",
    "\n",
    "scaler = MinMaxScaler()\n",
    "X_train = scaler.fit_transform(X_train)\n",
    "X_test = scaler.transform(X_test)\n",
    "\n",
    "X_train = pd.DataFrame(X_train, columns=X.columns)\n",
    "X_test = pd.DataFrame(X_test, columns=X.columns)"
   ]
  },
  {
   "cell_type": "code",
   "execution_count": 35,
   "id": "2f703af5",
   "metadata": {},
   "outputs": [],
   "source": [
    "def build_model(hp):\n",
    "\n",
    "    model = tf.keras.Sequential()\n",
    "    model.add(\n",
    "        tf.keras.layers.Dense(\n",
    "            units=hp.Int(\"units\", min_value=8, max_value=256, step=8),\n",
    "            activation=hp.Choice(\"activation\", [\"relu\", \"leaky_relu\"]),\n",
    "        )\n",
    "    )\n",
    "\n",
    "    if hp.Boolean(\"2Layers\"):\n",
    "        model.add(\n",
    "            tf.keras.layers.Dense(\n",
    "                units=hp.Int(\n",
    "                    \"units\",\n",
    "                    min_value=8,\n",
    "                    max_value=256,\n",
    "                    step=8,\n",
    "                ),\n",
    "                activation=hp.Choice(\n",
    "                    \"activation\",\n",
    "                    [\"relu\", \"leaky_relu\"],\n",
    "                ),\n",
    "            )\n",
    "        )\n",
    "\n",
    "    model.add(\n",
    "        tf.keras.layers.Dense(2, activation=\"linear\"),\n",
    "    )\n",
    "\n",
    "    model.compile(\n",
    "        optimizer=tf.keras.optimizers.Adam(),\n",
    "        loss=tf.keras.losses.MeanSquaredError(),\n",
    "        metrics=[r2],\n",
    "    )\n",
    "\n",
    "    return model"
   ]
  },
  {
   "cell_type": "code",
   "execution_count": 36,
   "id": "63819724",
   "metadata": {},
   "outputs": [],
   "source": [
    "tuner = keras_tuner.BayesianOptimization(\n",
    "    build_model, objective=\"val_loss\", num_initial_points=10, max_trials=30, seed=123, overwrite=True, project_name=\"ic2_tuner\"\n",
    ")"
   ]
  },
  {
   "cell_type": "code",
   "execution_count": 37,
   "id": "f48e4d25",
   "metadata": {},
   "outputs": [
    {
     "name": "stdout",
     "output_type": "stream",
     "text": [
      "Trial 30 Complete [00h 01m 19s]\n",
      "val_loss: 0.20120757818222046\n",
      "\n",
      "Best val_loss So Far: 0.1936948597431183\n",
      "Total elapsed time: 00h 34m 47s\n",
      "INFO:tensorflow:Oracle triggered exit\n"
     ]
    }
   ],
   "source": [
    "tuner.search(X_train, y_train, epochs=20, validation_data=(X_test, y_test))"
   ]
  },
  {
   "cell_type": "code",
   "execution_count": 41,
   "id": "006dcbff",
   "metadata": {},
   "outputs": [
    {
     "name": "stdout",
     "output_type": "stream",
     "text": [
      "Results summary\n",
      "Results in .\\ic2_tuner\n",
      "Showing 1 best trials\n",
      "Objective(name=\"val_loss\", direction=\"min\")\n",
      "\n",
      "Trial 22 summary\n",
      "Hyperparameters:\n",
      "units: 176\n",
      "activation: relu\n",
      "2Layers: True\n",
      "Score: 0.1936948597431183\n"
     ]
    }
   ],
   "source": [
    "tuner.results_summary(num_trials=1)"
   ]
  },
  {
   "cell_type": "code",
   "execution_count": 42,
   "id": "443dee3e",
   "metadata": {},
   "outputs": [],
   "source": [
    "hp = keras_tuner.HyperParameters()\n",
    "hp.Fixed(\"activation\", value=\"relu\")\n",
    "hp.Fixed(\"2Layers\", value=True)\n",
    "hp.Int(\"units\", min_value=160, max_value=192, step=2)\n",
    "\n",
    "tuner_rnd = keras_tuner.RandomSearch(\n",
    "    hypermodel=build_model,\n",
    "    objective=\"val_loss\",\n",
    "    max_trials=10,\n",
    "    hyperparameters=hp,\n",
    "    project_name=\"ic2_tuner_rnd\"\n",
    ")"
   ]
  },
  {
   "cell_type": "code",
   "execution_count": 43,
   "id": "4a1d52d1",
   "metadata": {},
   "outputs": [
    {
     "name": "stdout",
     "output_type": "stream",
     "text": [
      "Trial 10 Complete [00h 01m 16s]\n",
      "val_loss: 0.21492420136928558\n",
      "\n",
      "Best val_loss So Far: 0.19171732664108276\n",
      "Total elapsed time: 00h 13m 37s\n",
      "INFO:tensorflow:Oracle triggered exit\n"
     ]
    }
   ],
   "source": [
    "tuner_rnd.search(X_train, y_train, epochs=20, validation_data=(X_test, y_test))"
   ]
  },
  {
   "cell_type": "code",
   "execution_count": 44,
   "id": "ff53e8f4",
   "metadata": {},
   "outputs": [
    {
     "name": "stdout",
     "output_type": "stream",
     "text": [
      "Results summary\n",
      "Results in .\\ic2_tuner_rnd\n",
      "Showing 1 best trials\n",
      "Objective(name=\"val_loss\", direction=\"min\")\n",
      "\n",
      "Trial 04 summary\n",
      "Hyperparameters:\n",
      "activation: relu\n",
      "2Layers: True\n",
      "units: 190\n",
      "Score: 0.19171732664108276\n"
     ]
    }
   ],
   "source": [
    "tuner_rnd.results_summary(num_trials=1)"
   ]
  }
 ],
 "metadata": {
  "kernelspec": {
   "display_name": "Python 3 (ipykernel)",
   "language": "python",
   "name": "python3"
  },
  "language_info": {
   "codemirror_mode": {
    "name": "ipython",
    "version": 3
   },
   "file_extension": ".py",
   "mimetype": "text/x-python",
   "name": "python",
   "nbconvert_exporter": "python",
   "pygments_lexer": "ipython3",
   "version": "3.10.2"
  }
 },
 "nbformat": 4,
 "nbformat_minor": 5
}
