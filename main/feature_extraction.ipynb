{
 "cells": [
  {
   "cell_type": "code",
   "execution_count": 1,
   "id": "2364637e",
   "metadata": {},
   "outputs": [],
   "source": [
    "import numpy as np\n",
    "import pandas as pd\n",
    "\n",
    "%matplotlib inline"
   ]
  },
  {
   "cell_type": "markdown",
   "id": "c3cb1844",
   "metadata": {},
   "source": [
    "## Carregando os dados brutos"
   ]
  },
  {
   "cell_type": "markdown",
   "id": "8891e9cb",
   "metadata": {},
   "source": [
    "Os dados brutos possuem 337_500 amostras de sistemas com 1000 pontos por variável de estado (x1, x2)"
   ]
  },
  {
   "cell_type": "code",
   "execution_count": 5,
   "id": "c6ba31b1",
   "metadata": {},
   "outputs": [],
   "source": [
    "data = pd.read_feather('../data/raw_data.feather')"
   ]
  },
  {
   "cell_type": "markdown",
   "id": "7f0746ca",
   "metadata": {},
   "source": [
    "Selecionando uma amostra aleatória de 20% (67_500) dos sistemas dos dados brutos. Limpa-se a variável para evitar consumo excessivo de memória"
   ]
  },
  {
   "cell_type": "code",
   "execution_count": 4,
   "id": "4f231a9a",
   "metadata": {},
   "outputs": [],
   "source": [
    "data_sample = data.sample(frac=0.2, random_state=123, ignore_index=True)\n",
    "data = None\n",
    "del(data)"
   ]
  },
  {
   "cell_type": "markdown",
   "id": "feba059b",
   "metadata": {},
   "source": [
    "## Extraindo as características dos dados brutos"
   ]
  },
  {
   "cell_type": "code",
   "execution_count": 5,
   "id": "1a8adc0d",
   "metadata": {},
   "outputs": [],
   "source": [
    "def extract_features(dataframe):\n",
    "    features = pd.DataFrame()\n",
    "    features['X1_mean'] = dataframe.iloc[:, :1000].mean(axis=1)\n",
    "    features['X1_median'] = dataframe.iloc[:, :1000].median(axis=1)\n",
    "    features['X1_std'] = dataframe.iloc[:, :1000].std(axis=1)\n",
    "    features['X1_var'] = dataframe.iloc[:, :1000].var(axis=1)\n",
    "    features['X1_min'] = dataframe.iloc[:, :1000].min(axis=1)\n",
    "    features['X1_max'] = dataframe.iloc[:, :1000].max(axis=1)\n",
    "    features['X1_kurtosis'] = dataframe.iloc[:, :1000].kurtosis(axis=1)\n",
    "    features['X1_skew'] = dataframe.iloc[:, :1000].skew(axis=1)\n",
    "    features['X1_q1'] = dataframe.iloc[:, :1000].quantile(q=0.25, axis=1)\n",
    "    features['X1_q2'] = dataframe.iloc[:, :1000].quantile(q=0.5, axis=1)\n",
    "    features['X1_q3'] = dataframe.iloc[:, :1000].quantile(q=0.75, axis=1)\n",
    "    \n",
    "    # Calcula os 45 histogramas para cada linha do DataFrame\n",
    "    histograms = []\n",
    "    for i, row in dataframe.iloc[:, :1000].iterrows():\n",
    "        hist, _ = np.histogram(row, bins=45)\n",
    "        histograms.append(hist)\n",
    "        \n",
    "    histogram_df = pd.DataFrame(histograms, columns=[f'H{n+1}' for n in range(45)])\n",
    "    df = pd.concat([features, histogram_df], axis=1)\n",
    "    \n",
    "    return df"
   ]
  },
  {
   "cell_type": "markdown",
   "id": "dd4f7a17",
   "metadata": {},
   "source": [
    "Extraindo as features com a função e adicionando os targets"
   ]
  },
  {
   "cell_type": "code",
   "execution_count": 6,
   "id": "4d1d4501",
   "metadata": {},
   "outputs": [],
   "source": [
    "features = extract_features(data_sample)\n",
    "features[['y1', 'y2']] = data_sample[['y1', 'y2']]"
   ]
  },
  {
   "cell_type": "markdown",
   "id": "44ebaa61",
   "metadata": {},
   "source": [
    "Salvando os dados em ```.parquet```"
   ]
  },
  {
   "cell_type": "code",
   "execution_count": 12,
   "id": "7260b6fa",
   "metadata": {},
   "outputs": [],
   "source": [
    "features.to_parquet('../data/features_x1.parquet')"
   ]
  }
 ],
 "metadata": {
  "kernelspec": {
   "display_name": "Python 3 (ipykernel)",
   "language": "python",
   "name": "python3"
  },
  "language_info": {
   "codemirror_mode": {
    "name": "ipython",
    "version": 3
   },
   "file_extension": ".py",
   "mimetype": "text/x-python",
   "name": "python",
   "nbconvert_exporter": "python",
   "pygments_lexer": "ipython3",
   "version": "3.10.2"
  }
 },
 "nbformat": 4,
 "nbformat_minor": 5
}
